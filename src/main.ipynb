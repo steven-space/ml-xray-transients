{
 "cells": [
  {
   "cell_type": "code",
   "execution_count": 1,
   "metadata": {},
   "outputs": [],
   "source": [
    "from file_processors import histogram_processor\n",
    "from feature_extractors import ae_extractor, pca_extractor\n",
    "from feature_embedders import tsne_embedder\n",
    "import numpy as np\n",
    "from sklearn.manifold import TSNE\n",
    "from sklearn.decomposition import PCA\n",
    "import tensorflow as tf\n",
    "import ipywidgets as widgets\n",
    "from IPython.display import display, clear_output\n",
    "from ipywidgets import HBox, VBox\n",
    "import glob"
   ]
  },
  {
   "cell_type": "code",
   "execution_count": 2,
   "metadata": {},
   "outputs": [
    {
     "data": {
      "application/vnd.jupyter.widget-view+json": {
       "model_id": "2e51f5a6e76f46a0b70eceee041b81c4",
       "version_major": 2,
       "version_minor": 0
      },
      "text/plain": [
       "HBox(children=(Dropdown(description='Histogram Representation:', options=('2D', '3D'), style=DescriptionStyle(…"
      ]
     },
     "metadata": {},
     "output_type": "display_data"
    },
    {
     "data": {
      "application/vnd.jupyter.widget-view+json": {
       "model_id": "c2a771a9c80848f48f311198c4842abb",
       "version_major": 2,
       "version_minor": 0
      },
      "text/plain": [
       "HBox(children=(IntSlider(value=2, continuous_update=False, description='PCA Components:', min=2, style=SliderS…"
      ]
     },
     "metadata": {},
     "output_type": "display_data"
    }
   ],
   "source": [
    "# Define file paths\n",
    "data_path = \"../datasets\"\n",
    "encoders_path = \"../encoders\"\n",
    "properties_file = f\"{data_path}/properties-input-Full.csv\"\n",
    "ae_model_2d = f\"{encoders_path}/XAE-ENCODER-2D-CNN-cn[32, 16]-fc[192, 48]-neck12-lr0.001-b1024-reg0.0-botreg0.1-kernhe_normal-xae-rs505.h5\"\n",
    "ae_model_3d = f\"{encoders_path}/XAE-ENCODER-3D-FC-fc[1536, 384, 96]-neck24-lr0.001-b1024-reg0.1-xae24.h5\"\n",
    "\n",
    "# Widgets\n",
    "histogram_representation_widget = widgets.Dropdown(\n",
    "    options=[\"2D\", \"3D\"],\n",
    "    value=\"2D\",\n",
    "    description=\"Histogram Representation:\",\n",
    "    disabled=False,\n",
    "    style={'description_width': 'initial'}\n",
    ")\n",
    "\n",
    "feature_extractor_widget = widgets.Dropdown(\n",
    "    options=[\"PCA\", \"AE\"],\n",
    "    value=\"PCA\",\n",
    "    description=\"Feature Extractor:\",\n",
    "    disabled=False,\n",
    "    style={'description_width': 'initial'}\n",
    ")\n",
    "\n",
    "n_pca_widget = widgets.IntSlider(\n",
    "    value=2, min=2, max=100, step=1, \n",
    "    description=\"PCA Components:\", \n",
    "    disabled=False, continuous_update=False, \n",
    "    readout=True, readout_format='d',\n",
    "    style={'description_width': 'initial'}\n",
    ")\n",
    "\n",
    "# Container for n_pca_widget\n",
    "n_pca_container = HBox([n_pca_widget])\n",
    "n_pca_container.layout.display = 'none'  # Initially hide the container\n",
    "\n",
    "# Event handler for feature_extractor_widget\n",
    "def on_feature_extractor_change(change):\n",
    "    if change['new'] == 'PCA':\n",
    "        n_pca_container.layout.display = 'block'  # Show the container\n",
    "    else:\n",
    "        n_pca_container.layout.display = 'none'   # Hide the container\n",
    "\n",
    "# Event handler for histogram_representation_widget\n",
    "def on_histogram_representation_change(change):\n",
    "    if change['new'] == '2D':\n",
    "        n_pca_widget.value = 15  # Set default value for 2D\n",
    "    elif change['new'] == '3D':\n",
    "        n_pca_widget.value = 22  # Set default value for 3D\n",
    "\n",
    "# Observe changes in widgets\n",
    "feature_extractor_widget.observe(on_feature_extractor_change, names='value')\n",
    "histogram_representation_widget.observe(on_histogram_representation_change, names='value')\n",
    "\n",
    "# Display the widgets\n",
    "display(HBox([histogram_representation_widget, feature_extractor_widget]))\n",
    "display(n_pca_container)  # Display the container\n",
    "\n",
    "# Initial calls to set the correct states\n",
    "on_feature_extractor_change({'new': feature_extractor_widget.value})\n",
    "on_histogram_representation_change({'new': histogram_representation_widget.value})\n",
    "\n",
    "\n",
    "# # Select 2D vs 3D histogram representations and PCA vs AE feature extractors\n",
    "# histogram_representation_widget = widgets.Dropdown(options=[\"2D\", \"3D\"], value=\"2D\", description=\"Histogram Representation:\", disabled=False, style = {'description_width': 'initial'})\n",
    "# feature_extractor_widget = widgets.Dropdown(options=[\"PCA\", \"AE\"], value=\"PCA\", description=\"Feature Extractor:\", disabled=False, style = {'description_width': 'initial'})\n",
    "# n_pca_widget = widgets.IntSlider(value=2, min=2, max=100, step=1, description=\"PCA Components:\", disabled=False, continuous_update=False, orientation='horizontal', readout=True, readout_format='d')\n",
    "# display(HBox([histogram_representation_widget, feature_extractor_widget]))"
   ]
  },
  {
   "cell_type": "code",
   "execution_count": 5,
   "metadata": {},
   "outputs": [
    {
     "name": "stdout",
     "output_type": "stream",
     "text": [
      "Selected Histogram Representation Type:  2D\n",
      "Selected Feature Extractor:  AE\n",
      "Selected Histogram Representation File:  ../datasets/hist2D-Full-nE16-nt24-normminmax.pkl\n",
      "Metal device set to: Apple M2 Pro\n",
      "\n",
      "systemMemory: 16.00 GB\n",
      "maxCacheSize: 5.33 GB\n",
      "\n",
      "WARNING:tensorflow:No training configuration found in the save file, so the model was *not* compiled. Compile it manually.\n"
     ]
    },
    {
     "name": "stderr",
     "output_type": "stream",
     "text": [
      "2024-01-24 09:51:48.056850: W tensorflow/tsl/platform/profile_utils/cpu_utils.cc:128] Failed to get CPU frequency: 0 Hz\n"
     ]
    },
    {
     "name": "stdout",
     "output_type": "stream",
     "text": [
      "2984/2984 [==============================] - 8s 2ms/step\n"
     ]
    }
   ],
   "source": [
    "# Display widget selections\n",
    "print(\"Selected Histogram Representation Type: \", histogram_representation_widget.value)\n",
    "print(\"Selected Feature Extractor: \", feature_extractor_widget.value)\n",
    "if feature_extractor_widget.value == \"PCA\":\n",
    "    print(\"Selected PCA Components: \", n_pca_widget.value)\n",
    "\n",
    "# Select appropriate histogram file\n",
    "if feature_extractor_widget.value == \"PCA\":\n",
    "    if histogram_representation_widget.value == \"2D\":\n",
    "        histogram_file = glob.glob(f\"{data_path}/hist{histogram_representation_widget.value}*none*\")[0]\n",
    "    elif histogram_representation_widget.value == \"3D\":\n",
    "        histogram_file = glob.glob(f\"{data_path}/hist{histogram_representation_widget.value}*none*\")[0]\n",
    "elif feature_extractor_widget.value == \"AE\":\n",
    "    if histogram_representation_widget.value == \"2D\":\n",
    "        histogram_file = glob.glob(f\"{data_path}/hist{histogram_representation_widget.value}*minmax*\")[0]\n",
    "    elif histogram_representation_widget.value == \"3D\":\n",
    "        histogram_file = glob.glob(f\"{data_path}/hist{histogram_representation_widget.value}*minmax*\")[0]\n",
    "print(\"Selected Histogram Representation File: \", histogram_file)\n",
    "\n",
    "# Process histogram file and properties table\n",
    "histograms, df_properties = histogram_processor.histogram_processor(histogram_file,properties_file, feature_extractor_widget.value)\n",
    "\n",
    "# Extract features from histograms\n",
    "if feature_extractor_widget.value == \"PCA\":\n",
    "        features = pca_extractor.pca_extractor(histograms, int(n_pca_widget.value))\n",
    "elif feature_extractor_widget.value == \"AE\":\n",
    "    if histogram_representation_widget.value == \"2D\":\n",
    "        features = ae_extractor.ae_extractor(histograms, ae_model_2d)\n",
    "    elif histogram_representation_widget.value == \"3D\":\n",
    "        features = ae_extractor.ae_extractor(histograms, ae_model_3d)\n"
   ]
  }
 ],
 "metadata": {
  "kernelspec": {
   "display_name": "ciao_my_xspec",
   "language": "python",
   "name": "python3"
  },
  "language_info": {
   "codemirror_mode": {
    "name": "ipython",
    "version": 3
   },
   "file_extension": ".py",
   "mimetype": "text/x-python",
   "name": "python",
   "nbconvert_exporter": "python",
   "pygments_lexer": "ipython3",
   "version": "3.8.16"
  }
 },
 "nbformat": 4,
 "nbformat_minor": 2
}
