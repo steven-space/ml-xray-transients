{
 "cells": [
  {
   "cell_type": "code",
   "execution_count": 10,
   "metadata": {},
   "outputs": [],
   "source": [
    "from file_processors import histogram_reader, table_writer\n",
    "from feature_generators import ae_extractor, pca_extractor, tsne_embedder, dbscan_clusterer\n",
    "import numpy as np\n",
    "from sklearn.manifold import TSNE\n",
    "from sklearn.decomposition import PCA\n",
    "import tensorflow as tf\n",
    "from IPython.display import display, clear_output\n",
    "from ipywidgets import widgets, HBox, VBox, Layout\n",
    "import glob\n",
    "import pandas as pd\n",
    "import matplotlib.pyplot as plt\n",
    "plt.style.use('steven-space.mplstyle')"
   ]
  },
  {
   "cell_type": "code",
   "execution_count": 4,
   "metadata": {},
   "outputs": [
    {
     "data": {
      "application/vnd.jupyter.widget-view+json": {
       "model_id": "4edbbba68fa446fba495ae7a55b3231b",
       "version_major": 2,
       "version_minor": 0
      },
      "text/plain": [
       "HBox(children=(Dropdown(description='Histogram Representation:', options=('2D', '3D'), style=DescriptionStyle(…"
      ]
     },
     "metadata": {},
     "output_type": "display_data"
    },
    {
     "data": {
      "application/vnd.jupyter.widget-view+json": {
       "model_id": "7a8263476dd34a74a3d67e2ff5e5ff3b",
       "version_major": 2,
       "version_minor": 0
      },
      "text/plain": [
       "HBox(children=(IntText(value=30, description='Perplexity:', layout=Layout(width='159px'), style=DescriptionSty…"
      ]
     },
     "metadata": {},
     "output_type": "display_data"
    }
   ],
   "source": [
    "# Define file paths\n",
    "data_path = \"../datasets\"\n",
    "encoders_path = \"../encoders\"\n",
    "properties_file = f\"{data_path}/properties-input-Full.csv\"\n",
    "ae_model_2d = f\"{encoders_path}/XAE-ENCODER-2D-CNN-cn[32, 16]-fc[192, 48]-neck12-lr0.001-b1024-reg0.0-botreg0.1-kernhe_normal-xae-rs505.h5\"\n",
    "ae_model_3d = f\"{encoders_path}/XAE-ENCODER-3D-FC-fc[1536, 384, 96]-neck24-lr0.001-b1024-reg0.1-xae24.h5\"\n",
    "\n",
    "# Widgets\n",
    "int_text_layout = Layout(width='159px')\n",
    "histogram_representation_widget = widgets.Dropdown(\n",
    "    options=[\"2D\", \"3D\"],\n",
    "    value=\"2D\",\n",
    "    description=\"Histogram Representation:\",\n",
    "    disabled=False,\n",
    "    style={'description_width': 'initial'}\n",
    ")\n",
    "\n",
    "feature_extractor_widget = widgets.Dropdown(\n",
    "    options=[\"PCA\", \"AE\"],\n",
    "    value=\"PCA\",\n",
    "    description=\"Feature Extractor:\",\n",
    "    disabled=False,\n",
    "    style={'description_width': 'initial'}\n",
    ")\n",
    "\n",
    "n_pca_widget = widgets.IntSlider(\n",
    "    value=2, min=2, max=100, step=1, \n",
    "    description=\"PCA Components:\", \n",
    "    disabled=False, continuous_update=False, \n",
    "    readout=True, readout_format='d',\n",
    "    style={'description_width': 'initial'}\n",
    ")\n",
    "\n",
    "latent_size_message = widgets.HTML(\n",
    "    value=\"\",\n",
    "    placeholder='',\n",
    "    description=\"AE Components:\",disabled=False, \n",
    "    style={'description_width': 'initial'}\n",
    ")\n",
    "\n",
    "tsne_perp_widget = widgets.IntText(\n",
    "    value=30, description=\"Perplexity:\", \n",
    "    disabled=False, style={'description_width': 'initial'},\n",
    "    layout=int_text_layout\n",
    ")\n",
    "\n",
    "tsne_lr_widget = widgets.IntText(\n",
    "    value=100, description=\"Learning Rate:\", \n",
    "    disabled=False, style={'description_width': 'initial'},\n",
    "    layout=int_text_layout\n",
    ")\n",
    "\n",
    "tsne_iter_widget = widgets.IntText(\n",
    "    value=2000, description=\"Iterations:\", \n",
    "    disabled=False, style={'description_width': 'initial'},\n",
    "    layout=int_text_layout\n",
    ")\n",
    "\n",
    "tsne_rs_widget = widgets.IntText(\n",
    "    value=11, description=\"Random State:\", \n",
    "    disabled=False, style={'description_width': 'initial'},\n",
    "    layout=int_text_layout\n",
    ")\n",
    "\n",
    "tsne_ee_widget = widgets.IntText(\n",
    "    value=1, description=\"Early Exaggeration:\", \n",
    "    disabled=False, style={'description_width': 'initial'},\n",
    "    layout=int_text_layout\n",
    ")\n",
    "\n",
    "tsne_init_widget = widgets.Dropdown(\n",
    "    options=[\"random\", \"pca\"], value=\"random\", \n",
    "    description=\"Initialization:\", disabled=False, \n",
    "    style={'description_width': 'initial'},\n",
    "    layout=int_text_layout\n",
    ")\n",
    "\n",
    "# Container for t-SNE widgets\n",
    "tsne_widgets_container = HBox([tsne_perp_widget, tsne_lr_widget, tsne_iter_widget, tsne_rs_widget, tsne_ee_widget, tsne_init_widget])\n",
    "\n",
    "# Modify the container to include the n_pca_widget and the text message\n",
    "widgets_container = HBox([histogram_representation_widget, feature_extractor_widget, n_pca_widget, latent_size_message])\n",
    "\n",
    "\n",
    "# Event handler for changes in both histogram representation and feature extractor\n",
    "def on_selection_change(change):\n",
    "    # Clear previous output\n",
    "    clear_output(wait=True)\n",
    "    display(widgets_container)\n",
    "    display(tsne_widgets_container)\n",
    "\n",
    "    # Extract the current selections\n",
    "    histogram_representation = histogram_representation_widget.value\n",
    "    feature_extractor = feature_extractor_widget.value\n",
    "\n",
    "    # Set default values for n_pca_widget based on histogram representation\n",
    "    if histogram_representation == '2D':\n",
    "        n_pca_widget.value = 15\n",
    "    elif histogram_representation == '3D':\n",
    "        n_pca_widget.value = 22\n",
    "\n",
    "    # Set default values for t-SNE widgets based on both selections\n",
    "    if feature_extractor == 'PCA':\n",
    "        n_pca_widget.layout.display = 'flex'  # Show PCA container\n",
    "        latent_size_message.layout.display = 'none' \n",
    "        if histogram_representation == '2D':\n",
    "            tsne_perp_widget.value = 30\n",
    "            tsne_lr_widget.value = 80\n",
    "            tsne_iter_widget.value = 4500\n",
    "            tsne_rs_widget.value = 11\n",
    "        elif histogram_representation == '3D':\n",
    "            tsne_perp_widget.value = 50\n",
    "            tsne_lr_widget.value = 120\n",
    "            tsne_iter_widget.value = 3500\n",
    "            tsne_rs_widget.value = 11\n",
    "    elif feature_extractor == 'AE':\n",
    "        n_pca_widget.layout.display = 'none'  # Hide PCA container\n",
    "        latent_size_message.layout.display = 'flex' \n",
    "        if histogram_representation == '2D':\n",
    "            tsne_perp_widget.value = 40\n",
    "            tsne_lr_widget.value = 100\n",
    "            tsne_iter_widget.value = 3000\n",
    "            tsne_rs_widget.value = 12\n",
    "            latent_size_message.value = \"12\"\n",
    "        elif histogram_representation == '3D':\n",
    "            tsne_perp_widget.value = 60\n",
    "            tsne_lr_widget.value = 180\n",
    "            tsne_iter_widget.value = 2000\n",
    "            tsne_rs_widget.value = 12\n",
    "            latent_size_message.value = \"24\"\n",
    "\n",
    "# Attach the event handler to both widgets\n",
    "histogram_representation_widget.observe(on_selection_change, names='value')\n",
    "feature_extractor_widget.observe(on_selection_change, names='value')\n",
    "# Call the handler once to initialize with the current selections\n",
    "on_selection_change({'new': feature_extractor_widget.value})"
   ]
  },
  {
   "cell_type": "code",
   "execution_count": 7,
   "metadata": {},
   "outputs": [
    {
     "name": "stdout",
     "output_type": "stream",
     "text": [
      "Selected Histogram Representation File:  ../datasets/hist2D-Full-nE16-nt24-normnone.pkl\n"
     ]
    }
   ],
   "source": [
    "# Create name for features \n",
    "if feature_extractor_widget.value == \"AE\":\n",
    "    name_features = f\"{histogram_representation_widget.value}{feature_extractor_widget.value}{latent_size_message.value}\"\n",
    "elif feature_extractor_widget.value == \"PCA\":\n",
    "    name_features = f\"{histogram_representation_widget.value}{feature_extractor_widget.value}{n_pca_widget.value}\"\n",
    "\n",
    "# Create name for embeddings\n",
    "name_embedding = f\"perp{tsne_perp_widget.value}-lr{tsne_lr_widget.value}-iter{tsne_iter_widget.value}-rs{tsne_rs_widget.value}-ee{tsne_ee_widget.value}-init{tsne_init_widget.value}\"\n",
    "\n",
    "# Select appropriate histogram file\n",
    "if feature_extractor_widget.value == \"PCA\":\n",
    "    if histogram_representation_widget.value == \"2D\":\n",
    "        histogram_file = glob.glob(f\"{data_path}/hist{histogram_representation_widget.value}*none*\")[0]\n",
    "    elif histogram_representation_widget.value == \"3D\":\n",
    "        histogram_file = glob.glob(f\"{data_path}/hist{histogram_representation_widget.value}*none*\")[0]\n",
    "elif feature_extractor_widget.value == \"AE\":\n",
    "    if histogram_representation_widget.value == \"2D\":\n",
    "        histogram_file = glob.glob(f\"{data_path}/hist{histogram_representation_widget.value}*minmax*\")[0]\n",
    "    elif histogram_representation_widget.value == \"3D\":\n",
    "        histogram_file = glob.glob(f\"{data_path}/hist{histogram_representation_widget.value}*minmax*\")[0]\n",
    "print(\"Selected Histogram Representation File: \", histogram_file)\n",
    "\n",
    "# Process histogram file and properties table\n",
    "histograms, df_properties, ids = histogram_reader.histogram_reader(histogram_file,properties_file, feature_extractor_widget.value)"
   ]
  },
  {
   "cell_type": "code",
   "execution_count": null,
   "metadata": {},
   "outputs": [],
   "source": [
    "# Extract features from histograms\n",
    "if feature_extractor_widget.value == \"PCA\":\n",
    "        features = pca_extractor.pca_extractor(histograms, int(n_pca_widget.value))\n",
    "elif feature_extractor_widget.value == \"AE\":\n",
    "    if histogram_representation_widget.value == \"2D\":\n",
    "        features = ae_extractor.ae_extractor(histograms, ae_model_2d)\n",
    "    elif histogram_representation_widget.value == \"3D\":\n",
    "        features = ae_extractor.ae_extractor(histograms, ae_model_3d)\n",
    "\n",
    "# Create t-SNE embedding and save it to a file\n",
    "embedding = tsne_embedder.tsne_embedder(features, perplexity=tsne_perp_widget.value, learning_rate=tsne_lr_widget.value, early_exaggeration=tsne_ee_widget.value, iterations=tsne_iter_widget.value, random_state=tsne_rs_widget.value, dimensions=2, init=tsne_init_widget.value)\n",
    "tsne_file_name = f\"{data_path}/tsne_{name_features}_{name_embedding}.csv\"\n",
    "df_tsne = table_writer.embedding_writer(embedding, ids)\n",
    "df_tsne.to_csv(tsne_file_name, index=False)\n",
    "print(\"t-SNE embedding saved to: \", tsne_file_name)"
   ]
  },
  {
   "cell_type": "code",
   "execution_count": 5,
   "metadata": {},
   "outputs": [
    {
     "data": {
      "application/vnd.jupyter.widget-view+json": {
       "model_id": "ecfb00a7fbe34458a041b6d6be35b47d",
       "version_major": 2,
       "version_minor": 0
      },
      "text/plain": [
       "HBox(children=(Dropdown(description='t-SNE File:', options=('../datasets/tsne_2DPCA15_perp30-lr80-iter251-rs11…"
      ]
     },
     "metadata": {},
     "output_type": "display_data"
    }
   ],
   "source": [
    "# Widgets\n",
    "tsne_files = glob.glob(f\"{data_path}/tsne*\")\n",
    "tsne_file_widget = widgets.Dropdown(options=tsne_files, description=\"t-SNE File:\", disabled=False, style={'description_width': 'initial'})\n",
    "dbscan_eps_widget = widgets.FloatSlider(value=0.5, min=0.1, max=5.0, step=0.1, description=\"Epsilon:\", disabled=False, continuous_update=False, readout=True, readout_format='.1f', style={'description_width': 'initial'})\n",
    "dbscan_min_samples_widget = widgets.IntSlider(value=5, min=1, max=50, step=1, description=\"Min Samples:\", disabled=False, continuous_update=False, readout=True, readout_format='d', style={'description_width': 'initial'})\n",
    "dbscan_widget_container = HBox([tsne_file_widget, dbscan_eps_widget, dbscan_min_samples_widget])\n",
    "\n",
    "# Event handler for changes in both histogram representation and feature extractor\n",
    "def on_selection_change2(change):\n",
    "    # Clear previous output\n",
    "    clear_output(wait=True)\n",
    "    display(dbscan_widget_container)\n",
    "\n",
    "    # Extract the current selections\n",
    "    tsne_file = tsne_file_widget.value\n",
    "\n",
    "    # Set default values for n_pca_widget based on histogram representation\n",
    "    if \"2DPCA\" in tsne_file:\n",
    "        dbscan_eps_widget.value = 2.8\n",
    "        dbscan_min_samples_widget.value = 26\n",
    "    elif \"3DPCA\" in tsne_file:\n",
    "        dbscan_eps_widget.value = 2.1\n",
    "        dbscan_min_samples_widget.value = 23\n",
    "    elif \"2DAE\" in tsne_file:\n",
    "        dbscan_eps_widget.value = 1.6\n",
    "        dbscan_min_samples_widget.value = 25\n",
    "    elif \"3DAE\" in tsne_file:\n",
    "        dbscan_eps_widget.value = 1.9\n",
    "        dbscan_min_samples_widget.value = 24\n",
    "\n",
    "# Attach the event handler to both widgets\n",
    "tsne_file_widget.observe(on_selection_change2, names='value')\n",
    "# Call the handler once to initialize with the current selections\n",
    "on_selection_change2({'new2': tsne_file_widget.value})"
   ]
  },
  {
   "cell_type": "code",
   "execution_count": 6,
   "metadata": {},
   "outputs": [
    {
     "ename": "NameError",
     "evalue": "name 'name_features' is not defined",
     "output_type": "error",
     "traceback": [
      "\u001b[0;31m---------------------------------------------------------------------------\u001b[0m",
      "\u001b[0;31mNameError\u001b[0m                                 Traceback (most recent call last)",
      "Cell \u001b[0;32mIn[6], line 8\u001b[0m\n\u001b[1;32m      6\u001b[0m df_dbscan \u001b[38;5;241m=\u001b[39m table_writer\u001b[38;5;241m.\u001b[39mclustering_writer(df_tsne, cluster_labels)\n\u001b[1;32m      7\u001b[0m name_clustering \u001b[38;5;241m=\u001b[39m \u001b[38;5;124mf\u001b[39m\u001b[38;5;124m\"\u001b[39m\u001b[38;5;124meps\u001b[39m\u001b[38;5;132;01m{\u001b[39;00mdbscan_eps_widget\u001b[38;5;241m.\u001b[39mvalue\u001b[38;5;132;01m}\u001b[39;00m\u001b[38;5;124m-ms\u001b[39m\u001b[38;5;132;01m{\u001b[39;00mdbscan_min_samples_widget\u001b[38;5;241m.\u001b[39mvalue\u001b[38;5;132;01m}\u001b[39;00m\u001b[38;5;124m\"\u001b[39m\n\u001b[0;32m----> 8\u001b[0m dbscan_file_name \u001b[38;5;241m=\u001b[39m \u001b[38;5;124mf\u001b[39m\u001b[38;5;124m\"\u001b[39m\u001b[38;5;132;01m{\u001b[39;00mdata_path\u001b[38;5;132;01m}\u001b[39;00m\u001b[38;5;124m/dbscan_\u001b[39m\u001b[38;5;132;01m{\u001b[39;00mname_features\u001b[38;5;132;01m}\u001b[39;00m\u001b[38;5;124m_\u001b[39m\u001b[38;5;132;01m{\u001b[39;00mname_embedding\u001b[38;5;132;01m}\u001b[39;00m\u001b[38;5;124m_\u001b[39m\u001b[38;5;132;01m{\u001b[39;00mname_clustering\u001b[38;5;132;01m}\u001b[39;00m\u001b[38;5;124m.csv\u001b[39m\u001b[38;5;124m\"\u001b[39m\n\u001b[1;32m      9\u001b[0m df_dbscan\u001b[38;5;241m.\u001b[39mto_csv(dbscan_file_name, index\u001b[38;5;241m=\u001b[39m\u001b[38;5;28;01mFalse\u001b[39;00m)\n",
      "\u001b[0;31mNameError\u001b[0m: name 'name_features' is not defined"
     ]
    }
   ],
   "source": [
    "# Load t-SNE file\n",
    "df_tsne = pd.read_csv(tsne_file_widget.value)\n",
    "\n",
    "# Cluster embeddings with DBSCAN and save it to a file\n",
    "cluster_labels = dbscan_clusterer.dbscan_clusterer(df_tsne, epsilon=dbscan_eps_widget.value, min_samples=dbscan_min_samples_widget.value)\n",
    "df_dbscan = table_writer.clustering_writer(df_tsne, cluster_labels)\n",
    "name_clustering = f\"eps{dbscan_eps_widget.value}-ms{dbscan_min_samples_widget.value}\"\n",
    "dbscan_file_name = f\"{data_path}/dbscan_{name_features}_{name_embedding}_{name_clustering}.csv\"\n",
    "df_dbscan.to_csv(dbscan_file_name, index=False)"
   ]
  },
  {
   "cell_type": "code",
   "execution_count": 8,
   "metadata": {},
   "outputs": [],
   "source": [
    "df_dbscan = table_writer.clustering_writer(df_tsne, cluster_labels)\n",
    "name_clustering = f\"eps{dbscan_eps_widget.value}-ms{dbscan_min_samples_widget.value}\"\n",
    "dbscan_file_name = f\"{data_path}/dbscan_{name_features}_{name_embedding}_{name_clustering}.csv\"\n",
    "df_dbscan.to_csv(dbscan_file_name, index=False)"
   ]
  }
 ],
 "metadata": {
  "kernelspec": {
   "display_name": "ciao_my_xspec",
   "language": "python",
   "name": "python3"
  },
  "language_info": {
   "codemirror_mode": {
    "name": "ipython",
    "version": 3
   },
   "file_extension": ".py",
   "mimetype": "text/x-python",
   "name": "python",
   "nbconvert_exporter": "python",
   "pygments_lexer": "ipython3",
   "version": "3.8.16"
  }
 },
 "nbformat": 4,
 "nbformat_minor": 2
}
